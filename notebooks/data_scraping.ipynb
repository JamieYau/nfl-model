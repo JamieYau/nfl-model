{
 "cells": [
  {
   "cell_type": "markdown",
   "id": "7cf4bdc3",
   "metadata": {},
   "source": [
    "# Scaping NFL data\n"
   ]
  },
  {
   "cell_type": "code",
   "execution_count": 37,
   "id": "2168e1af",
   "metadata": {},
   "outputs": [],
   "source": [
    "# Importing libraries\n",
    "import random\n",
    "import time\n",
    "\n",
    "import numpy as np\n",
    "import pandas as pd"
   ]
  },
  {
   "cell_type": "code",
   "execution_count": 38,
   "id": "7fec9d61",
   "metadata": {},
   "outputs": [
    {
     "name": "stdout",
     "output_type": "stream",
     "text": [
      "Scraping data for 1 seasons\n",
      "Scraping data for 32 teams\n",
      "['2021']\n"
     ]
    }
   ],
   "source": [
    "# Create list of seasons as stings to scrape\n",
    "seasons = [str(season) for season in range(2021, 2022)]\n",
    "print(f\"Scraping data for {len(seasons)} seasons\")\n",
    "\n",
    "# Create list of team abbreviations used by pro-football-reference\n",
    "teams = [\n",
    "    \"crd\",\n",
    "    \"atl\",\n",
    "    \"rav\",\n",
    "    \"buf\",\n",
    "    \"car\",\n",
    "    \"chi\",\n",
    "    \"cin\",\n",
    "    \"cle\",\n",
    "    \"dal\",\n",
    "    \"den\",\n",
    "    \"det\",\n",
    "    \"gnb\",\n",
    "    \"htx\",\n",
    "    \"clt\",\n",
    "    \"jax\",\n",
    "    \"kan\",\n",
    "    \"rai\",\n",
    "    \"sdg\",\n",
    "    \"ram\",\n",
    "    \"mia\",\n",
    "    \"min\",\n",
    "    \"nwe\",\n",
    "    \"nor\",\n",
    "    \"nyg\",\n",
    "    \"nyj\",\n",
    "    \"phi\",\n",
    "    \"pit\",\n",
    "    \"sfo\",\n",
    "    \"sea\",\n",
    "    \"tam\",\n",
    "    \"oti\",\n",
    "    \"was\",\n",
    "]\n",
    "print(f\"Scraping data for {len(teams)} teams\")"
   ]
  },
  {
   "cell_type": "code",
   "execution_count": 39,
   "id": "99a1b61f",
   "metadata": {},
   "outputs": [
    {
     "name": "stdout",
     "output_type": "stream",
     "text": [
      "https://www.pro-football-reference.com/teams/crd/2021/gamelog/\n",
      "Scraped crd 2021\n",
      "https://www.pro-football-reference.com/teams/atl/2021/gamelog/\n",
      "Scraped atl 2021\n",
      "https://www.pro-football-reference.com/teams/rav/2021/gamelog/\n",
      "Scraped rav 2021\n",
      "https://www.pro-football-reference.com/teams/buf/2021/gamelog/\n",
      "Scraped buf 2021\n",
      "https://www.pro-football-reference.com/teams/car/2021/gamelog/\n",
      "Scraped car 2021\n",
      "https://www.pro-football-reference.com/teams/chi/2021/gamelog/\n",
      "Scraped chi 2021\n",
      "https://www.pro-football-reference.com/teams/cin/2021/gamelog/\n",
      "Scraped cin 2021\n",
      "https://www.pro-football-reference.com/teams/cle/2021/gamelog/\n",
      "Scraped cle 2021\n",
      "https://www.pro-football-reference.com/teams/dal/2021/gamelog/\n",
      "Scraped dal 2021\n",
      "https://www.pro-football-reference.com/teams/den/2021/gamelog/\n",
      "Scraped den 2021\n",
      "https://www.pro-football-reference.com/teams/det/2021/gamelog/\n",
      "Scraped det 2021\n",
      "https://www.pro-football-reference.com/teams/gnb/2021/gamelog/\n",
      "Scraped gnb 2021\n",
      "https://www.pro-football-reference.com/teams/htx/2021/gamelog/\n",
      "Scraped htx 2021\n",
      "https://www.pro-football-reference.com/teams/clt/2021/gamelog/\n",
      "Scraped clt 2021\n",
      "https://www.pro-football-reference.com/teams/jax/2021/gamelog/\n",
      "Scraped jax 2021\n",
      "https://www.pro-football-reference.com/teams/kan/2021/gamelog/\n",
      "Scraped kan 2021\n",
      "https://www.pro-football-reference.com/teams/rai/2021/gamelog/\n",
      "Scraped rai 2021\n",
      "https://www.pro-football-reference.com/teams/sdg/2021/gamelog/\n",
      "Scraped sdg 2021\n",
      "https://www.pro-football-reference.com/teams/ram/2021/gamelog/\n",
      "Scraped ram 2021\n",
      "https://www.pro-football-reference.com/teams/mia/2021/gamelog/\n",
      "Scraped mia 2021\n",
      "https://www.pro-football-reference.com/teams/min/2021/gamelog/\n",
      "Scraped min 2021\n",
      "https://www.pro-football-reference.com/teams/nwe/2021/gamelog/\n",
      "Scraped nwe 2021\n",
      "https://www.pro-football-reference.com/teams/nor/2021/gamelog/\n",
      "Scraped nor 2021\n",
      "https://www.pro-football-reference.com/teams/nyg/2021/gamelog/\n",
      "Scraped nyg 2021\n",
      "https://www.pro-football-reference.com/teams/nyj/2021/gamelog/\n",
      "Scraped nyj 2021\n",
      "https://www.pro-football-reference.com/teams/phi/2021/gamelog/\n",
      "Scraped phi 2021\n",
      "https://www.pro-football-reference.com/teams/pit/2021/gamelog/\n",
      "Scraped pit 2021\n",
      "https://www.pro-football-reference.com/teams/sfo/2021/gamelog/\n",
      "Scraped sfo 2021\n",
      "https://www.pro-football-reference.com/teams/sea/2021/gamelog/\n",
      "Scraped sea 2021\n",
      "https://www.pro-football-reference.com/teams/tam/2021/gamelog/\n",
      "Scraped tam 2021\n",
      "https://www.pro-football-reference.com/teams/oti/2021/gamelog/\n",
      "Scraped oti 2021\n",
      "https://www.pro-football-reference.com/teams/was/2021/gamelog/\n",
      "Scraped was 2021\n"
     ]
    }
   ],
   "source": [
    "# Empty list to store dataframes\n",
    "all_dfs = []\n",
    "\n",
    "# Loop through each season for each team\n",
    "for season in seasons:\n",
    "    for team in teams:\n",
    "        # 1. Create url\n",
    "        url = f\"https://www.pro-football-reference.com/teams/{team}/{season}/gamelog/\"\n",
    "        print(url)\n",
    "        # 2. Scrape data\n",
    "        df = pd.read_html(url, header=1, attrs={\"id\": \"gamelog\" + season})[0]\n",
    "\n",
    "        # 3. Insert Team and Season into dataframe\n",
    "        df.insert(loc=0, column=\"Season\", value=season)\n",
    "        df.insert(loc=2, column=\"Team\", value=team)\n",
    "\n",
    "        # 4. Append to list\n",
    "        all_dfs.append(df)\n",
    "\n",
    "        print(f\"Scraped {team} {season}\")\n",
    "\n",
    "        # Limit requests to 20 requests per minute\n",
    "        time.sleep(random.randint(3, 5))\n",
    "\n",
    "# Concatenate all dataframes in list\n",
    "gamelog_df = pd.concat(all_dfs)\n",
    "gamelog_df.to_csv(\n",
    "    f\"../data/nfl_gamelog_{seasons[0]}_{seasons[-1]}.csv\", index=False\n",
    ")"
   ]
  },
  {
   "cell_type": "code",
   "execution_count": 43,
   "id": "424f30d9",
   "metadata": {},
   "outputs": [
    {
     "name": "stdout",
     "output_type": "stream",
     "text": [
      "  Season  Week Team  Day          Date Unnamed: 3 Unnamed: 4   OT Unnamed: 6  \\\n",
      "0   2021     1  crd  Sun  September 12   boxscore          W  NaN          @   \n",
      "1   2021     2  crd  Sun  September 19   boxscore          W  NaN        NaN   \n",
      "2   2021     3  crd  Sun  September 26   boxscore          W  NaN          @   \n",
      "3   2021     4  crd  Sun     October 3   boxscore          W  NaN          @   \n",
      "4   2021     5  crd  Sun    October 10   boxscore          W  NaN        NaN   \n",
      "\n",
      "                    Opp  ...  FGA  XPM  XPA  Pnt  Yds.3  3DConv  3DAtt  \\\n",
      "0      Tennessee Titans  ...    2    5    5    3    144       7     13   \n",
      "1     Minnesota Vikings  ...    2    4    4    4    221       3      9   \n",
      "2  Jacksonville Jaguars  ...    2    4    4    5    253       1      9   \n",
      "3      Los Angeles Rams  ...    3    4    4    2     88       8     13   \n",
      "4   San Francisco 49ers  ...    2    2    2    4    205       3     10   \n",
      "\n",
      "   4DConv  4DAtt    ToP  \n",
      "0       0      0  33:21  \n",
      "1       1      1  31:52  \n",
      "2       2      2  32:54  \n",
      "3       0      0  35:10  \n",
      "4       0      0  28:06  \n",
      "\n",
      "[5 rows x 38 columns]\n",
      "(544, 38)\n"
     ]
    }
   ],
   "source": [
    "print(gamelog_df.head())\n",
    "# print df shape\n",
    "print(gamelog_df.shape)"
   ]
  }
 ],
 "metadata": {
  "kernelspec": {
   "display_name": "pyenv",
   "language": "python",
   "name": "python3"
  },
  "language_info": {
   "codemirror_mode": {
    "name": "ipython",
    "version": 3
   },
   "file_extension": ".py",
   "mimetype": "text/x-python",
   "name": "python",
   "nbconvert_exporter": "python",
   "pygments_lexer": "ipython3",
   "version": "3.12.4"
  }
 },
 "nbformat": 4,
 "nbformat_minor": 5
}
